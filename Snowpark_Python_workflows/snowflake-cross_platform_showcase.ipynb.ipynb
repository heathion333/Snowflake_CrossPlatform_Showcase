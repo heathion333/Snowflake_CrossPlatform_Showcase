{
 "metadata": {
  "kernelspec": {
   "display_name": "Streamlit Notebook",
   "name": "streamlit"
  },
  "lastEditStatus": {
   "notebookId": "kb45pqagkutczb2hqt3p",
   "authorId": "4914918159378",
   "authorName": "VELMAN80",
   "authorEmail": "leaveil80@yahoo.com",
   "sessionId": "d339311b-c2b0-45cb-b7ba-fb580a5895d3",
   "lastEditTime": 1758177566719
  }
 },
 "nbformat_minor": 5,
 "nbformat": 4,
 "cells": [
  {
   "cell_type": "markdown",
   "id": "3775908f-ca36-4846-8f38-5adca39217f2",
   "metadata": {
    "name": "cell1",
    "collapsed": false
   },
   "source": "# Snowflake Cross-Platform Showcase\nThis notebook demonstrates how Snowflake integrates with Python (Snowpark), SQL, and Streamlit for scalable, cloud-native analytics. Built during my trial period to highlight multi-language flexibility and real-time querying."
  },
  {
   "cell_type": "code",
   "id": "8d50cbf4-0c8d-4950-86cb-114990437ac9",
   "metadata": {
    "language": "python",
    "name": "cell2"
   },
   "source": "import pandas as pd\nfrom snowflake.snowpark.context import get_active_session\nsession = get_active_session()",
   "execution_count": null,
   "outputs": []
  },
  {
   "cell_type": "code",
   "id": "c695373e-ac74-4b62-a1f1-08206cbd5c81",
   "metadata": {
    "language": "python",
    "name": "cell3"
   },
   "source": "df = pd.DataFrame({\n    'item_id': [101, 102, 103],\n    'item_name': ['Steel Bolts', 'Copper Wire', 'Safety Gloves'],\n    'category': ['Hardware', 'Electrical', 'PPE'],\n    'quantity': [500, 200, 150],\n    'received_date': ['2025-09-10', '2025-09-12', '2025-09-08']\n})\n\nsession.write_pandas(df, table_name=\"inventory_data\", auto_create_table=True)",
   "execution_count": null,
   "outputs": []
  },
  {
   "cell_type": "code",
   "id": "dfec55f2-6b34-44e1-91ef-7828a0515f34",
   "metadata": {
    "language": "python",
    "name": "cell4"
   },
   "outputs": [],
   "source": "session.write_pandas(df, table_name=\"inventory_data\", auto_create_table=True)",
   "execution_count": null
  },
  {
   "cell_type": "code",
   "id": "1b90a0b1-e646-41b2-ae95-76bbcd45d273",
   "metadata": {
    "language": "python",
    "name": "cell5"
   },
   "outputs": [],
   "source": "session.sql(\"\"\"\n    SELECT \"category\", SUM(\"quantity\") AS total_quantity\n    FROM \"inventory_data\"\n    GROUP BY \"category\"\n    HAVING SUM(\"quantity\") > 400\n\"\"\").show()",
   "execution_count": null
  }
 ]
}